{
 "cells": [
  {
   "cell_type": "markdown",
   "metadata": {},
   "source": [
    "# Social distancing"
   ]
  },
  {
   "cell_type": "code",
   "execution_count": 1,
   "metadata": {},
   "outputs": [],
   "source": [
    "import numpy\n",
    "import networkx\n",
    "import epyc\n",
    "import epydemic\n",
    "import pandas\n",
    "import mpmath\n",
    "\n",
    "import matplotlib\n",
    "%matplotlib inline\n",
    "%config InlineBackend.figure_formats = {'svg', 'png'}\n",
    "import matplotlib.pyplot as plt\n",
    "import seaborn\n",
    "matplotlib.style.use('seaborn')"
   ]
  },
  {
   "cell_type": "markdown",
   "metadata": {},
   "source": [
    "What does \"social distancing\" mean in network terms? We can understand it best by thinking about the actual conditions of socially-distant lockdown, and then re-creating this structure as a network.\n",
    "\n",
    "The idea of social distancing is to place individuals in small \"bubbles\" of contact &ndash; typically just their own immediate family &ndash; with whom they interact strongly, and weaken the connections that any family member has with individuals in other bubbles. Within a bubble, infection of one person will probably transfer quickly to most or all all of the other members. But the ability of the disease to pass between bubbles is substantially reduced, since there is relatively little contact between them. One can reduce the inter-bubble transmission even further using quarantine when someone realises they are infected.\n",
    "\n",
    "In network terms, the bubbles are complete graphs (everyone in a bubble meets everyone else) whose size depends on the size of the family. We could set all families to the same size, say 4; alternatively we could draw family sizes from some probability distribution where the average size of a family is 4.5 (2 adults and the proverbial 2.5 children) but we allow larger and smaller families to occur. Larger families risk more infections if a member is infected, pushing up the overall infection numbers.\n",
    "\n",
    "We now need to link the bubbles. In each bubble, some person or people meet with the outside world: perhaps they're the designated shopper, or someone in a key role whose work brings them into contact with others. We then need to connect these people to other bubbles.\n",
    "\n",
    "This description still leacves quite a lot to be decided:\n",
    "\n",
    "- What is the distribution of family sizes? &ndash; are large families unusual?\n",
    "- How many people in each family connect to the outside? Is it always one or two? Or might a large family have more contacts?\n",
    "- How do those in contact connect with others? Are some people significantly more connected than others?\n",
    "\n"
   ]
  },
  {
   "cell_type": "code",
   "execution_count": null,
   "metadata": {},
   "outputs": [],
   "source": [
    "def socially_distant(N, clusterSize, )"
   ]
  }
 ],
 "metadata": {
  "kernelspec": {
   "display_name": "Python 3",
   "language": "python",
   "name": "python3"
  },
  "language_info": {
   "codemirror_mode": {
    "name": "ipython",
    "version": 3
   },
   "file_extension": ".py",
   "mimetype": "text/x-python",
   "name": "python",
   "nbconvert_exporter": "python",
   "pygments_lexer": "ipython3",
   "version": "3.6.10"
  }
 },
 "nbformat": 4,
 "nbformat_minor": 4
}
