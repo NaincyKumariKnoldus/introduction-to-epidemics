{
 "cells": [
  {
   "cell_type": "markdown",
   "metadata": {},
   "source": [
    "# Herd immunity"
   ]
  },
  {
   "cell_type": "markdown",
   "metadata": {},
   "source": [
    "Epidemics pass through populations by infecting the susceptible. In doing so they change the details of the population, leaving behind a trace of the epidemic's passing. In a real epidemic this includes the human cost of the  infections and deaths that occur. But it also includes other, more epidemiological, traces that include a change in the proportion of the population who remain susceptible to re-infection."
   ]
  },
  {
   "cell_type": "markdown",
   "metadata": {},
   "source": [
    "(sec:herd-immunity)=\n",
    "## Immunity"
   ]
  },
  {
   "cell_type": "markdown",
   "metadata": {},
   "source": [
    "By **immunity** we mean making an individual impervious to future infection by the disease. Immunity is conferred on an individual in three main ways.\n",
    "\n",
    "```{margin}\n",
    "Note that this isn't quite the same as saying that the immune individual can't be re-infected. They *are* re-infected, but defeat that infection far more efficiently than does a \"normal\" individual.\n",
    "```\n",
    "\n",
    "The simplest way to acquire immunity is to have had the disease before. Having been exposed to (and presumably defeated) the disease pathogen, the immune system stores information about the necessary response. If exposed to the pathogen again, the immune system is able to respond more quickly by having been sensitised to the pathogen. This means that the immune response starts more quickly after exposure, with less pathogen to contend with, and often means that the individual never becomes symptomatic.\n",
    "\n",
    "```{margin}\n",
    "Most diseases pathogens can't cross the placental barrier and so the mother doesn't infect the child.\n",
    "```\n",
    "\n",
    "For some diseases, an infection confers immunity on the pre-natal children of any mothers who are infected. This is a clever piece of evolution that means that children born into the midst of an epidemic are often immune to the disease if their mother was exposed.  \n",
    "\n",
    "The widespread use of vaccines in the modern world for serious diseases is the final way to confer immunity. A vaccine essentially just pre-sensitises a person's immune system in the same way that a pre-occurring infection would do &ndash; but without the disadvantage of making the person sick in the first place."
   ]
  },
  {
   "cell_type": "markdown",
   "metadata": {},
   "source": [
    "(sec:herd-herd-immunity)=\n",
    "## Herd immunity"
   ]
  },
  {
   "cell_type": "markdown",
   "metadata": {},
   "source": [
    "If immunity is the inability of an individual to contract a disease, then **herd immunity** is the corresponding property for a population that can't contract an epidemic of the disease. More precisely, in a herd-immune population any outbreak of the disease will tend to die out quickly without infecting a large proportion of the population.\n",
    "\n",
    "To understand herd immunity we need to return to the initial notions we had of how an epidemic persists in a population. We saw that {ref}`contact trees <sec:tracing-contact-trees>` capture the case reproduction number $R$ of an ongoing epidemic. We also {ref}`saw <sec:progress-r-care>` that if  $R \\ge 1$ then the epidemic continues, as the next generation of cases is at least the same size as the previous one. If, however, $R$ falls and remains below 1, then the size of the next generation is smaller than the previous one, and if this trend continues then the disease will die out. \n",
    "\n",
    "Herd immunity occurs when $R \\ll 1$ so that any epidemic never gets started. More importantly, it means that if an epidemic re-starts through the disease being re-introduced, it won't get re-started.\n",
    "\n",
    "This doesn't mean that no-one ever gets infected in a herd-immune population: it's perfectly possible for people to come into contact with infected individuals from outside, and to become infected themselves if they aren't personally immune. But the disease doesn't spread from them into the rest of the population.\n",
    "\n",
    "How does this come about? When discussing $R$ we {ref}`saw <sec:progress-R0>` that the case reproduction number is affected by three things: the duration of infectiousness, the probability of disease transmission per contact, and the rate of contacts between infected and susceptible individuals. The first two are properties of the disease, while the second is a property of the environment in which it finds itself. A herd-immune population is one in which the number of contacts between susceptible and infected individuals is too low to sustain an outbreak. Essentially herd immunity uses the topology of the contact network to reduce the value of $R$ below the critical threshold of 1."
   ]
  },
  {
   "cell_type": "markdown",
   "metadata": {},
   "source": [
    "## Epidemics on a residual network"
   ]
  },
  {
   "cell_type": "markdown",
   "metadata": {},
   "source": [
    "We can model the effects of herd immunity by using the idea of a disease *repeatedly* being introduced to the *same* contact network. We let the disease run through the population, and then note that, for SIR infections, anyone who has been removed from the population cannot be re-infected, and indeed takes no further part in the disease dynamics. We are left with a **residual network** into which we re-introduce the same disease and see what happens.\n",
    "\n",
    "The important thing to notice is that the second epidemic is caused by the re-introduction of the *same* disease, with the same infectiousness and period of infection. Will this instance of the disease spread? &ndash; only if the residual network is such that the disease can get hold in it. If the first epidemic caused enough nodes to be removed, then this may prevent a second epidemic in the same population (or, more accurately, in a large sub-set of the population who weren't infected the first time). \n",
    "\n",
    "This is another way to think about herd immunity. By removing nodes from the population it changes its topology so that disease propagation is no longer possible, or at least occurs at a radically smaller level. Any subsequent outbreaks are in some sense \"squashed by the topology\" even though the biology of the situation is unchanged. "
   ]
  },
  {
   "cell_type": "code",
   "execution_count": 2,
   "metadata": {
    "tags": [
     "remove-cell"
    ]
   },
   "outputs": [],
   "source": [
    "import numpy\n",
    "import networkx\n",
    "import epyc\n",
    "import epydemic\n",
    "import pandas\n",
    "import mpmath\n",
    "\n",
    "import matplotlib\n",
    "%matplotlib inline\n",
    "%config InlineBackend.figure_format = 'png'\n",
    "import matplotlib.pyplot as plt\n",
    "import seaborn\n",
    "matplotlib.style.use('seaborn')\n",
    "seaborn.set_context(\"notebook\", font_scale=1.75)\n",
    "from IPython.display import Image"
   ]
  },
  {
   "cell_type": "code",
   "execution_count": 3,
   "metadata": {
    "tags": [
     "remove-cell"
    ]
   },
   "outputs": [],
   "source": [
    "class MonitoredSIR(epydemic.SIR, epydemic.Monitor):\n",
    " \n",
    "    def __init__(self):\n",
    "        super(MonitoredSIR, self).__init__()\n",
    "        \n",
    "    def build(self, params):\n",
    "        '''Build the observation process.\n",
    "        \n",
    "        :param params: the experimental parameters'''\n",
    "        super(MonitoredSIR, self).build(params)\n",
    "\n",
    "        # also monitor other compartments\n",
    "        self.trackNodesInCompartment(epydemic.SIR.SUSCEPTIBLE)\n",
    "        self.trackNodesInCompartment(epydemic.SIR.REMOVED)"
   ]
  },
  {
   "cell_type": "markdown",
   "metadata": {},
   "source": [
    "For simplicity let's return to {doc}`ER networks <er>`. (The same arguments work perfectly well on power-law networks too.) We create a small network and run an SIR epidemic over it, choosing disease parameters that we know will create an epidemic."
   ]
  },
  {
   "cell_type": "code",
   "execution_count": 4,
   "metadata": {},
   "outputs": [],
   "source": [
    "N = 5000\n",
    "kmean = 20\n",
    "\n",
    "T = 5000\n",
    "\n",
    "pInfected = 0.01\n",
    "pInfect = 0.0002   # above the epidemic threshold\n",
    "pRemove = 0.002"
   ]
  },
  {
   "cell_type": "code",
   "execution_count": 5,
   "metadata": {},
   "outputs": [],
   "source": [
    "g = networkx.gnp_random_graph(N, (kmean + 0.0) / N)"
   ]
  },
  {
   "cell_type": "code",
   "execution_count": 6,
   "metadata": {},
   "outputs": [],
   "source": [
    "param = dict()\n",
    "param[epydemic.SIR.P_INFECTED] = pInfected\n",
    "param[epydemic.SIR.P_INFECT] = pInfect\n",
    "param[epydemic.SIR.P_REMOVE] = pRemove\n",
    "param[epydemic.Monitor.DELTA] = T / 50      # take 50 observations"
   ]
  },
  {
   "cell_type": "code",
   "execution_count": 7,
   "metadata": {},
   "outputs": [],
   "source": [
    "m1 = MonitoredSIR()\n",
    "e1 = epydemic.StochasticDynamics(m1, g)\n",
    "rc1 = e1.set(param).run()"
   ]
  },
  {
   "cell_type": "markdown",
   "metadata": {},
   "source": [
    "We can now see how many nodes were infected in the course of the epidemic (the size of the removed compartment) and how many escaped infection and remain susceptible. "
   ]
  },
  {
   "cell_type": "code",
   "execution_count": 8,
   "metadata": {},
   "outputs": [
    {
     "name": "stdout",
     "output_type": "stream",
     "text": [
      "Remaining susceptible 1156, removed 3844\n"
     ]
    }
   ],
   "source": [
    "print('Remaining susceptible {s}, removed {r}'.format(s=len(m1.compartment(epydemic.SIR.SUSCEPTIBLE)), r=len(m1.compartment(epydemic.SIR.REMOVED))))"
   ]
  },
  {
   "cell_type": "markdown",
   "metadata": {},
   "source": [
    "Quite a large epidemic, but one that left a substantial number uninfected. We now construct the residual network by deleting all the nodes who are (or have been) infected, leaving the susceptibles. We don't touch the edges between the nodes. "
   ]
  },
  {
   "cell_type": "code",
   "execution_count": 9,
   "metadata": {},
   "outputs": [],
   "source": [
    "h = m1.network().copy()\n",
    "h.remove_nodes_from(m1.compartment(epydemic.SIR.INFECTED))\n",
    "h.remove_nodes_from(m1.compartment(epydemic.SIR.REMOVED))"
   ]
  },
  {
   "cell_type": "markdown",
   "metadata": {},
   "source": [
    "As a sanity check, the number of nodes in the residual network should match the number of susceptible nodes who were left after the first epidemic."
   ]
  },
  {
   "cell_type": "code",
   "execution_count": 10,
   "metadata": {},
   "outputs": [
    {
     "name": "stdout",
     "output_type": "stream",
     "text": [
      "Order of residual network 1156\n"
     ]
    }
   ],
   "source": [
    "print('Order of residual network {o}'.format(o=h.order()))"
   ]
  },
  {
   "cell_type": "markdown",
   "metadata": {},
   "source": [
    "We now run the *same* disease on this network without touching the experimental parameters."
   ]
  },
  {
   "cell_type": "code",
   "execution_count": 11,
   "metadata": {},
   "outputs": [],
   "source": [
    "m2 = MonitoredSIR()\n",
    "e2 = epydemic.StochasticDynamics(m2, h)\n",
    "rc2 = e2.set(param).run()"
   ]
  },
  {
   "cell_type": "markdown",
   "metadata": {},
   "source": [
    "What is the result? We can plot the progress of the two epidemics side by side: the \"main\" epidemic and the secondary infection on the residual network."
   ]
  },
  {
   "cell_type": "code",
   "execution_count": 15,
   "metadata": {
    "tags": [
     "hide-input"
    ]
   },
   "outputs": [
    {
     "data": {
      "image/png": "[encoded data removed]",
      "text/plain": [
       "<Figure size 864x432 with 2 Axes>"
      ]
     },
     "metadata": {},
     "output_type": "display_data"
    }
   ],
   "source": [
    "(fig, axs) = plt.subplots(1, 2, sharey=True, figsize=(12, 6))\n",
    "\n",
    "# plot the first epidemic\n",
    "ax = axs[0]\n",
    "timeseries1 = rc1[epyc.Experiment.RESULTS][epydemic.Monitor.TIMESERIES]\n",
    "ts1 = timeseries1[epydemic.Monitor.OBSERVATIONS]\n",
    "ss1 = timeseries1[epydemic.SIR.SUSCEPTIBLE]\n",
    "is1 = timeseries1[epydemic.SIR.INFECTED]\n",
    "rs1 = timeseries1[epydemic.SIR.REMOVED]\n",
    "ax.plot(ts1, ss1, 'r-', label='susceptible')\n",
    "ax.plot(ts1, is1, 'g-', label='infected')\n",
    "ax.plot(ts1, rs1, 'k-', label='removed')\n",
    "ax.set_xlabel('$t$')\n",
    "ax.set_ylabel('population that is...')\n",
    "ax.set_title('First epidemic')\n",
    "ax.legend(loc='center right')\n",
    "\n",
    "# plot the second epidemic on the residual network\n",
    "ax = axs[1]\n",
    "timeseries2 = rc2[epyc.Experiment.RESULTS][epydemic.Monitor.TIMESERIES]\n",
    "ts2 = timeseries2[epydemic.Monitor.OBSERVATIONS]\n",
    "ss2 = timeseries2[epydemic.SIR.SUSCEPTIBLE]\n",
    "is2 = timeseries2[epydemic.SIR.INFECTED]\n",
    "ax.plot(ts2, ss2, 'r-', label='susceptible')\n",
    "ax.plot(ts2, is2, 'g-', label='infected')\n",
    "ax.set_xlabel('$t$')\n",
    "ax.set_title('Second epidemic')\n",
    "ax.legend(loc='center right')\n",
    "\n",
    "# fine-time the figure\n",
    "plt.suptitle('Progress of two epidemics on the same contact network', y=1.05)\n",
    "axs[0].set_ylabel('population that is...')\n",
    "\n",
    "_ = plt.show()"
   ]
  },
  {
   "cell_type": "markdown",
   "metadata": {},
   "source": [
    "The first epidemic happens as we would expect: a burst of infections followed by a dying-away. But the second epidemic looks as though nothing happens. We can check by looking at the final compartment sizes."
   ]
  },
  {
   "cell_type": "code",
   "execution_count": 16,
   "metadata": {},
   "outputs": [
    {
     "name": "stdout",
     "output_type": "stream",
     "text": [
      "Remaining susceptible 1134, removed 22\n"
     ]
    }
   ],
   "source": [
    "print('Remaining susceptible {s}, removed {r}'.format(s=len(m2.compartment(epydemic.SIR.SUSCEPTIBLE)), r=len(m2.compartment(epydemic.SIR.REMOVED))))"
   ]
  },
  {
   "cell_type": "markdown",
   "metadata": {},
   "source": [
    "So the same disease barely affected any nodes, despite being re-introduced.\n",
    "\n",
    "Why is this? The first epidemic changed the topology of the network. Specifically it reduced the mean degree of nodes because so many of the nodes were removed. In doing so it reduced the disease's opportunities to spread, effectively reducing $R_0$ below the critical threshold."
   ]
  },
  {
   "cell_type": "code",
   "execution_count": 17,
   "metadata": {},
   "outputs": [
    {
     "name": "stdout",
     "output_type": "stream",
     "text": [
      "Mean degree of initial network 20\n",
      "Mean degree of residual network 4.50\n"
     ]
    }
   ],
   "source": [
    "print('Mean degree of initial network {kmean}'.format(kmean=kmean))\n",
    "print('Mean degree of residual network {kmean:.2f}'.format(kmean=numpy.mean(list(dict(h.degree()).values()))))"
   ]
  },
  {
   "cell_type": "markdown",
   "metadata": {},
   "source": [
    "We can show this graphically &ndash; if less scientifically usefully &ndash; by plotting the progress of the disease through the network."
   ]
  },
  {
   "cell_type": "code",
   "execution_count": 18,
   "metadata": {
    "tags": [
     "hide-cell"
    ]
   },
   "outputs": [],
   "source": [
    "(fig,axs) = plt.subplots(1, 3, figsize=(12, 5))\n",
    "\n",
    "# colours fgor compartments\n",
    "colours = dict()\n",
    "colours[epydemic.SIR.SUSCEPTIBLE] = 'red'\n",
    "colours[epydemic.SIR.INFECTED] = 'green'\n",
    "colours[epydemic.SIR.REMOVED] = 'black'\n",
    "\n",
    "# plot the final network of the first epidemic, colouring for compartment\n",
    "ax = axs[0]\n",
    "final = m1.network()\n",
    "pos1 = networkx.drawing.layout.random_layout(final)\n",
    "ncs = [ colours[m1.getCompartment(n)] for n in final.nodes() ]\n",
    "networkx.draw_networkx(final, pos=pos1, ax=ax, node_color=ncs, node_size=5, with_labels=False, edgelist=[])\n",
    "ax.axis('off')\n",
    "ax.set_title('After first epidemic')\n",
    "\n",
    "# plot residual network for the second epidemic\n",
    "ax = axs[1]\n",
    "final = m2.network()\n",
    "pos2 = { n: pos1[n] for n in pos1.keys() if n in final.nodes() }\n",
    "networkx.draw_networkx(final, pos=pos2, ax=ax, node_color=colours[epydemic.SIR.SUSCEPTIBLE], node_size=5, with_labels=False, edgelist=[])\n",
    "ax.axis('off')\n",
    "ax.set_title('Residual susceptibles')\n",
    "\n",
    "# plot the final network of the second epidemic\n",
    "ax = axs[2]\n",
    "ncs = [ colours[m2.getCompartment(n)] for n in final.nodes() ]\n",
    "networkx.draw_networkx(final, pos=pos2, ax=ax, node_color=ncs, node_size=5, with_labels=False, edgelist=[])\n",
    "ax.axis('off')\n",
    "ax.set_title('After second epidemic')\n",
    "\n",
    "# fine-tune figure\n",
    "plt.suptitle('Progress of two epidemics', y=1.05)\n",
    "\n",
    "# the figure we've created is large -- very large, actually -- because of the large\n",
    "# network. Since we don't want to create a large notebook, we generate and  save the\n",
    "# file without displaying it and then re-load the saved image\n",
    "plt.savefig('herd-finals.png', dpi=300, bbox_inches='tight')\n",
    "plt.close(fig)"
   ]
  },
  {
   "cell_type": "markdown",
   "metadata": {
    "tags": [
     "hide-cell"
    ]
   },
   "source": [
    "```{raw} latex\n",
    "\\begin{fullwidth}\n",
    "```"
   ]
  },
  {
   "cell_type": "markdown",
   "metadata": {},
   "source": [
    "![Herd immunity](herd-finals.png)"
   ]
  },
  {
   "cell_type": "markdown",
   "metadata": {
    "tags": [
     "hide-cell"
    ]
   },
   "source": [
    "```{raw} latex\n",
    "\\end{fullwidth}\n",
    "```"
   ]
  },
  {
   "cell_type": "markdown",
   "metadata": {},
   "source": [
    "In the left-hand panel we have the network after the first epidemic, with black nodes being those that have been infected. In the middle panel we remove these nodes, leaving only the residual susceptibles: we've not drawn the connections for reasons of scale. In the right-hand panel we show the network after the second epidemic &ndash; look carefully to find the nodes that were infected! The visual first impression is what's important, though: after the first epidemic the network had been mostly infected, but after the second it was largely untouched despite the fact that the same disease was introduced both times. The population has been rendered herd-immune by its first brush with the disease. "
   ]
  },
  {
   "cell_type": "markdown",
   "metadata": {},
   "source": [
    "(sec:herd-complexity)=\n",
    "## The complexities of immunity"
   ]
  },
  {
   "cell_type": "markdown",
   "metadata": {},
   "source": [
    "This description makes things sound simple. Infecting the population once means that they can't, as a body, be infected again, and so the risks of subsequent disease outbreaks are minimised.\n",
    "\n",
    "Not quite. There are more things we need to consider.\n",
    "\n",
    "Firstly, and most importantly, gaining herd immunity through infection means that a lot of people have to become sick. Depending on the disease, that can result in a lot of misery and a lot of death. We glossed-over the difference between these two factors in using SIR as our disease model, but we need to remember that \"removed\" (in the SIR sense)  includes those who recovered and those who died &ndash; neither of whom, in this simple model, take any further part in this or future epidemics.\n",
    "\n",
    "While the difference between recovered and dead therefore doesn't matter mathematically, it matters a lot to the individuals concerned &ndash; or rather, it matters to those who survive. If a disease with a low death rate infects 60% of a population that still means a *lot* of deaths. \n",
    "\n",
    "Secondly, a further assumption of SIR is that immunity is a binary thing: one is *either* susceptible *or* removed, and if susceptible one is *entirely* susceptible and if removed one is *completely* removed. These assumptions aren't an accurate model of many diseases.\n",
    "\n",
    "In many diseases, infection by the disease confers only **partial immunity** to further infection. Essentially this decreases an individual's own personal probability $p_{\\mathit{infect}}$, making them less likely to be infected at subsequent encounters.\n",
    "\n",
    "In other diseases. infection confers **temporary immunity** so that an individual's $p_{\\mathit{infect}}$ changes with time, perhaps dropping to zero immediately after recovery and rising over time. The exact way in which immunity decays may be different too, perhaps rising steadily or perhaps jumping, and perhaps eventually reaching a \"normal\" level as though the first infection hadn't occurred. And of course one can always have the case of **temporary partial immunity** that combines the features of both.\n",
    "\n",
    "To all these complexities we also need to add uncertainty. In an epidemic of a new disease we almost certainly *don't know* what, if any, immunity infection confers. This implies that we don't know whether a recurrence of the disease will result in another epidemic or not.\n",
    "\n",
    "All this means that achieving herd immunity isn't a viable strategy for managing new diseases with large potential epidemic sizes, even if they're known (or assumed) to have relatively low mortality rates. A tiny fraction of a huge number can still be considerable. Fortunately herd immunity is not the only management strategy we have available to us. "
   ]
  },
  {
   "cell_type": "markdown",
   "metadata": {},
   "source": [
    "## Questions for discussion"
   ]
  },
  {
   "cell_type": "markdown",
   "metadata": {},
   "source": [
    "- How would you work out whether a particular disease conferred full immunity, or only partial immunity?\n",
    "- Is partial immunity any help in managing a disease? &ndash; it still leave speople at risk after infection"
   ]
  }
 ],
 "metadata": {
  "celltoolbar": "Tags",
  "kernelspec": {
   "display_name": "Python 3",
   "language": "python",
   "name": "python3"
  },
  "language_info": {
   "codemirror_mode": {
    "name": "ipython",
    "version": 3
   },
   "file_extension": ".py",
   "mimetype": "text/x-python",
   "name": "python",
   "nbconvert_exporter": "python",
   "pygments_lexer": "ipython3",
   "version": "3.6.10"
  }
 },
 "nbformat": 4,
 "nbformat_minor": 4
}
