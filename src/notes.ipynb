{
 "cells": [
  {
   "cell_type": "markdown",
   "metadata": {},
   "source": [
    "# Notes"
   ]
  },
  {
   "cell_type": "markdown",
   "metadata": {},
   "source": [
    "## The simplest model"
   ]
  },
  {
   "cell_type": "markdown",
   "metadata": {},
   "source": [
    "<a name=\"1\">[1]</a> This approach to integration to get a time series, known as the *direct* or *Euler* method, isn't safe in general, as it risks falling foul of numerical instability in the equations. There are several more robust solutions for the more complex cases, notably the Runge-Kutta methods that are built into Python's `scipy` library.\n",
    "\n",
    "<a name=\"2\">[2]</a> We've engaged in some mathematical sleight-of-hand here, in that what we've described as a *discrete* model (of people being susceptible, infected, and so on) has then be treated as a *continuous* model that represents the sizes of compartments as real numbers. In order to work in this way the three SIR equations should really be be phrased as *differential* equations rather than as *difference* equations so that the passage from discrete to continuous time makes mathematical sense. The results obtained are the same in both cases, however."
   ]
  },
  {
   "cell_type": "code",
   "execution_count": null,
   "metadata": {},
   "outputs": [],
   "source": []
  }
 ],
 "metadata": {
  "kernelspec": {
   "display_name": "Python 3",
   "language": "python",
   "name": "python3"
  },
  "language_info": {
   "codemirror_mode": {
    "name": "ipython",
    "version": 3
   },
   "file_extension": ".py",
   "mimetype": "text/x-python",
   "name": "python",
   "nbconvert_exporter": "python",
   "pygments_lexer": "ipython3",
   "version": "3.8.2"
  }
 },
 "nbformat": 4,
 "nbformat_minor": 4
}
