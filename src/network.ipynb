{
 "cells": [
  {
   "cell_type": "markdown",
   "metadata": {},
   "source": [
    "# Epidemics on networks"
   ]
  },
  {
   "cell_type": "code",
   "execution_count": 1,
   "metadata": {},
   "outputs": [],
   "source": [
    "import numpy\n",
    "import networkx\n",
    "import epyc\n",
    "import epydemic\n",
    "\n",
    "import matplotlib\n",
    "%matplotlib inline\n",
    "%config InlineBackend.figure_format = 'svg'\n",
    "import matplotlib.pyplot as plt\n",
    "import seaborn\n",
    "\n",
    "from ipywidgets import interact, fixed\n",
    "import ipywidgets as widgets"
   ]
  },
  {
   "cell_type": "code",
   "execution_count": 2,
   "metadata": {},
   "outputs": [],
   "source": [
    "def make_sir(beta, alpha):\n",
    "    # turn the equations into update functions\n",
    "    def dS(S, I, R):\n",
    "        return -beta * S * I\n",
    "    def dI(S, I, R):\n",
    "        return beta * S * I - alpha * I\n",
    "    def dR(S, I, R):\n",
    "        return alpha * I\n",
    "    \n",
    "    # return the three functions\n",
    "    return (dS, dI, dR)"
   ]
  },
  {
   "cell_type": "code",
   "execution_count": 12,
   "metadata": {},
   "outputs": [],
   "source": [
    "def epidemic_sir(T, N, pInfected, pInfect, pRemove):\n",
    "    # create the equations for these parameters\n",
    "    (dS, dI, dR) = make_sir(pInfect, pRemove)\n",
    "    \n",
    "    # initial conditions\n",
    "    sss = [ N * (1.0 - pInfected) ]   # everyone is initially susceptible...\n",
    "    iss = [ N * pInfected ]           # ...except for this fraction...\n",
    "    rss = [ 0 ]                       # ...and no-one starts off removed\n",
    "\n",
    "    # push the initial conditions through the differential equations\n",
    "    for t in range(1, T):\n",
    "        ds = dS(sss[-1], iss[-1], rss[-1])\n",
    "        di = dI(sss[-1], iss[-1], rss[-1])\n",
    "        dr = dR(sss[-1], iss[-1], rss[-1])\n",
    "        sss.append(sss[-1] + ds)\n",
    "        iss.append(iss[-1] + di)\n",
    "        rss.append(rss[-1] + dr)\n",
    "        \n",
    "    # return the time series\n",
    "    return (list(range(0, T)), sss, iss, rss)"
   ]
  },
  {
   "cell_type": "code",
   "execution_count": 4,
   "metadata": {},
   "outputs": [],
   "source": [
    "N = 1000\n",
    "T = 5000\n",
    "pInfected = 0.01"
   ]
  },
  {
   "cell_type": "code",
   "execution_count": 5,
   "metadata": {},
   "outputs": [],
   "source": [
    "class MonitoredSIR(epydemic.SIR):\n",
    "    '''A monitored epidemic.'''''\n",
    "    \n",
    "    # Experimental parameters\n",
    "    DELTA = \"time_delta\"                #: Parameter for the time interval for observations.\n",
    "    \n",
    "    # Results\n",
    "    OBSERVATIONS = 'loci_observations'  #: Result holding the times of the observations.\n",
    "    TIMESERIES = \"loci_timeseries\"      #: Result holding a dict mapping locus names to a dict of sample time and size.\n",
    " \n",
    "    def __init__(self):\n",
    "        super(MonitoredSIR, self).__init__()\n",
    "        \n",
    "    def reset(self):\n",
    "        '''Reset the process.'''\n",
    "        super(MonitoredSIR, self).reset()\n",
    "        self._timeSeries = None\n",
    "        \n",
    "    def build(self, params):\n",
    "        '''Build the observation process.\n",
    "        \n",
    "        :param params: the experimental parameters'''\n",
    "        super(MonitoredSIR, self).build(params)\n",
    "\n",
    "        # also monitor other compartments\n",
    "        self.trackNodesInCompartment(epydemic.SIR.SUSCEPTIBLE)\n",
    "        self.trackNodesInCompartment(epydemic.SIR.REMOVED)\n",
    "        \n",
    "        # post a repeating event to observe the process\n",
    "        delta = params[self.DELTA]\n",
    "        self.postRepeatingEvent(delta, delta, None, self.observe)\n",
    "        \n",
    "    def observe(self, t, e):\n",
    "        '''Observe the network.\n",
    "        \n",
    "        :param t: the current simulation time\n",
    "        :param e: the element (ignored)'''\n",
    "\n",
    "        # if this is the first run, build the initial dicts per locus\n",
    "        if self._timeSeries is None:\n",
    "            self._timeSeries = dict()\n",
    "            self._timeSeries[self.OBSERVATIONS] = []\n",
    "            for l in self:\n",
    "                self._timeSeries[l] = []\n",
    "\n",
    "        # make the observation\n",
    "        self._timeSeries[self.OBSERVATIONS].append(t)\n",
    "        for l in self:\n",
    "            self._timeSeries[l].append(len(self[l]))\n",
    "        \n",
    "    def results(self):\n",
    "        '''Return the time series.\n",
    "        \n",
    "        :returns: the results'''\n",
    "        rc = super(MonitoredSIR, self).results()\n",
    "        \n",
    "        # store the series\n",
    "        rc[self.TIMESERIES] = self._timeSeries\n",
    "        \n",
    "        return rc"
   ]
  },
  {
   "cell_type": "code",
   "execution_count": 6,
   "metadata": {},
   "outputs": [],
   "source": [
    "def network_sir(T, g, pInfected, pInfect, pRemove):\n",
    "    # create the simulator\n",
    "    m = MonitoredSIR()\n",
    "    m.setMaximumTime(T)\n",
    "    e = epydemic.StochasticDynamics(m, g)\n",
    "\n",
    "    # set the simulation parameters\n",
    "    param = dict()\n",
    "    param[epydemic.SIR.P_INFECTED] = pInfected\n",
    "    param[epydemic.SIR.P_INFECT] = pInfect\n",
    "    param[epydemic.SIR.P_REMOVE] = pRemove\n",
    "    param[MonitoredSIR.DELTA] = T / 100          # take 100 samples\n",
    "    \n",
    "    # run the simulation\n",
    "    rc = e.set(param).run()\n",
    "    \n",
    "    # extract the time series, converting them to fractions of the network\n",
    "    results = e.experimentalResults()[MonitoredSIR.TIMESERIES]\n",
    "    ts = results[MonitoredSIR.OBSERVATIONS]\n",
    "    sss = results[epydemic.SIR.SUSCEPTIBLE]\n",
    "    iss = results[epydemic.SIR.INFECTED]\n",
    "    rss = results[epydemic.SIR.REMOVED]\n",
    "\n",
    "    # return the time series\n",
    "    return(ts, sss, iss, rss)"
   ]
  },
  {
   "cell_type": "code",
   "execution_count": 7,
   "metadata": {},
   "outputs": [],
   "source": [
    "g = networkx.complete_graph(N)"
   ]
  },
  {
   "cell_type": "code",
   "execution_count": 13,
   "metadata": {},
   "outputs": [
    {
     "data": {
      "application/vnd.jupyter.widget-view+json": {
       "model_id": "af7b4ecc05d9419e8584a77d1d916aef",
       "version_major": 2,
       "version_minor": 0
      },
      "text/plain": [
       "interactive(children=(FloatSlider(value=0.004, continuous_update=False, description='$\\\\beta \\\\times 1000$', m…"
      ]
     },
     "metadata": {},
     "output_type": "display_data"
    }
   ],
   "source": [
    "@interact(pInfected=fixed(pInfected), \\\n",
    "          pInfect=widgets.FloatSlider(min=0.0, max=0.01, step=(0.01 / 20), value=0.004, \\\n",
    "                                      description='$\\\\beta \\\\times 1000$', continuous_update=False, readout_format='.4f'), \\\n",
    "          pRemove=widgets.FloatSlider(min=0.0, max=0.004, step=(0.004 / 20), value=0.001, \\\n",
    "                                      description='$\\\\alpha$', continuous_update=False, readout_format='.4f'))\n",
    "def interact_networked_sir(pInfected, pInfect, pRemove):\n",
    "    # run the epidemic equations\n",
    "    (ts, sss, iss, rss) = epidemic_sir(T, N, pInfected, pInfect / 1000, pRemove)\n",
    "    \n",
    "    # run the corresponding simulation\n",
    "    (sim_ts, sim_sss, sim_iss, sim_rss) = network_sir(T, g, pInfected, pInfect / 1000, pRemove)\n",
    "    \n",
    "    # draw the graph\n",
    "    fig = plt.figure(figsize=(8, 6))\n",
    "    plt.plot(ts, sss, 'r-', label='suceptible')   # the theoretical results\n",
    "    plt.plot(ts, iss, 'g-', label='infected')\n",
    "    plt.plot(sim_ts, sim_sss, 'rx')               # the simulated results\n",
    "    plt.plot(sim_ts, sim_iss, 'gx')\n",
    "    plt.title('Progress of epidemic ($\\\\beta = {b}, \\\\alpha = {a}$)'.format(b=pInfect, a=pRemove))\n",
    "    plt.xlabel('$t$')\n",
    "    plt.xlim([0, T])\n",
    "    plt.ylabel('population that is...')\n",
    "    plt.ylim([0.0, N])\n",
    "    plt.legend(loc='right')\n",
    "    plt.show()"
   ]
  },
  {
   "cell_type": "code",
   "execution_count": null,
   "metadata": {},
   "outputs": [],
   "source": []
  }
 ],
 "metadata": {
  "kernelspec": {
   "display_name": "Python 3",
   "language": "python",
   "name": "python3"
  },
  "language_info": {
   "codemirror_mode": {
    "name": "ipython",
    "version": 3
   },
   "file_extension": ".py",
   "mimetype": "text/x-python",
   "name": "python",
   "nbconvert_exporter": "python",
   "pygments_lexer": "ipython3",
   "version": "3.6.9"
  }
 },
 "nbformat": 4,
 "nbformat_minor": 4
}
