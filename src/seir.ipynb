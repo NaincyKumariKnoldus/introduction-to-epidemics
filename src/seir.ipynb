{
 "cells": [
  {
   "cell_type": "markdown",
   "metadata": {},
   "source": [
    "# Asymptomatic transmission"
   ]
  },
  {
   "cell_type": "code",
   "execution_count": 1,
   "metadata": {},
   "outputs": [],
   "source": [
    "import numpy\n",
    "import networkx\n",
    "import epyc\n",
    "import epydemic\n",
    "import pandas\n",
    "import mpmath\n",
    "\n",
    "import matplotlib\n",
    "%matplotlib inline\n",
    "%config InlineBackend.figure_format = 'svg'\n",
    "import matplotlib.pyplot as plt\n",
    "import seaborn\n",
    "matplotlib.style.use('seaborn')"
   ]
  },
  {
   "cell_type": "code",
   "execution_count": 3,
   "metadata": {},
   "outputs": [
    {
     "name": "stdout",
     "output_type": "stream",
     "text": [
      "importing time on engine(s)\n",
      "importing networkx on engine(s)\n",
      "importing epyc on engine(s)\n",
      "importing epydemic on engine(s)\n",
      "importing numpy on engine(s)\n",
      "6 engines available\n"
     ]
    }
   ],
   "source": [
    "lab = epyc.ClusterLab(profile='sif', notebook=epyc.JSONLabNotebook('datasets/seir-er.json'))\n",
    "with lab.sync_imports():\n",
    "    import time\n",
    "    import networkx\n",
    "    import epyc\n",
    "    import epydemic\n",
    "    import numpy\n",
    "print('{n} engines available'.format(n = lab.numberOfEngines()))"
   ]
  },
  {
   "cell_type": "code",
   "execution_count": 3,
   "metadata": {},
   "outputs": [],
   "source": [
    "# from https://nbviewer.jupyter.org/gist/minrk/4470122\n",
    "def pxlocal(line, cell):\n",
    "    ip = get_ipython()\n",
    "    ip.run_cell_magic(\"px\", line, cell)\n",
    "    ip.run_cell(cell)\n",
    "get_ipython().register_magic_function(pxlocal, \"cell\")    "
   ]
  },
  {
   "cell_type": "code",
   "execution_count": 4,
   "metadata": {},
   "outputs": [],
   "source": [
    "%%pxlocal\n",
    "\n",
    "class ERNetworkDynamics(epydemic.StochasticDynamics):\n",
    "    \n",
    "    # Experimental parameters\n",
    "    N = 'N'\n",
    "    KMEAN = 'kmean'\n",
    "    \n",
    "    def __init__(self, p):\n",
    "        super(ERNetworkDynamics, self).__init__(p)\n",
    "        \n",
    "    def configure(self, params):\n",
    "        super(ERNetworkDynamics, self).configure(params)\n",
    "        \n",
    "        # build a random ER network with the given parameters\n",
    "        N = params[self.N]\n",
    "        kmean = params[self.KMEAN]\n",
    "        pEdge = (kmean + 0.09) / N\n",
    "        g = networkx.gnp_random_graph(N, pEdge)\n",
    "        self.setNetworkPrototype(g)"
   ]
  },
  {
   "cell_type": "code",
   "execution_count": 2,
   "metadata": {},
   "outputs": [],
   "source": [
    "class MonitoredSIR(epydemic.SIR, epydemic.Monitor):\n",
    " \n",
    "    def __init__(self):\n",
    "        super(MonitoredSIR, self).__init__()\n",
    "        \n",
    "    def build(self, params):\n",
    "        '''Build the observation process.\n",
    "        \n",
    "        :param params: the experimental parameters'''\n",
    "        super(MonitoredSIR, self).build(params)\n",
    "\n",
    "        # also monitor other compartments\n",
    "        self.trackNodesInCompartment(epydemic.SIR.SUSCEPTIBLE)\n",
    "        self.trackNodesInCompartment(epydemic.SIR.REMOVED)"
   ]
  },
  {
   "cell_type": "code",
   "execution_count": 3,
   "metadata": {},
   "outputs": [],
   "source": [
    "class MonitoredSEIR(epydemic.SEIR, epydemic.Monitor):\n",
    " \n",
    "    def __init__(self):\n",
    "        super(MonitoredSEIR, self).__init__()\n",
    "        \n",
    "    def build(self, params):\n",
    "        '''Build the observation process.\n",
    "        \n",
    "        :param params: the experimental parameters'''\n",
    "        super(MonitoredSEIR, self).build(params)\n",
    "\n",
    "        # also monitor other compartments\n",
    "        self.trackNodesInCompartment(epydemic.SIR.SUSCEPTIBLE)\n",
    "        self.trackNodesInCompartment(epydemic.SIR.REMOVED)"
   ]
  },
  {
   "cell_type": "code",
   "execution_count": 5,
   "metadata": {},
   "outputs": [],
   "source": [
    "# test network\n",
    "lab[ERNetworkDynamics.N] = 10000\n",
    "lab[ERNetworkDynamics.KMEAN] = 40\n",
    "\n",
    "# disease parameters\n",
    "lab[epydemic.SEIR.P_EXPOSED] = 0.001\n",
    "lab[epydemic.SEIR.P_REMOVE] = 0.002\n",
    "lab[epydemic.SEIR.P_INFECT_ASYMPTOMATIC] = numpy.linspace(0.00001, 0.0002, num=50)\n",
    "lab[epydemic.SEIR.P_INFECT_SYMPTOMATIC] = 0.000075   # middle of the phase transition\n",
    "lab[epydemic.SEIR.P_SYMPTOMS] = 0.002"
   ]
  },
  {
   "cell_type": "code",
   "execution_count": 6,
   "metadata": {},
   "outputs": [],
   "source": [
    "m = epydemic.SEIR()\n",
    "e = ERNetworkDynamics(m)\n",
    "rc = lab.runExperiment(epyc.RepeatedExperiment(epyc.RepeatedExperiment(e, 10), 10))"
   ]
  },
  {
   "cell_type": "code",
   "execution_count": 7,
   "metadata": {},
   "outputs": [
    {
     "ename": "RemoteError",
     "evalue": "ModuleNotFoundError(No module named 'epydemic.seir_model')",
     "output_type": "error",
     "traceback": [
      "\u001b[0;31m\u001b[0m\u001b[0;31mModuleNotFoundError\u001b[0mTraceback (most recent call last)\u001b[0;32m~/covid-19/venv3/lib64/python3.6/site-packages/ipyparallel/serialize/serialize.py\u001b[0m in \u001b[0;36munpack_apply_message\u001b[0;34m(bufs, g, copy)\u001b[0m",
      "\u001b[1;32m    196\u001b[0m     \u001b[0mbufs\u001b[0m \u001b[0;34m=\u001b[0m \u001b[0mlist\u001b[0m\u001b[0;34m(\u001b[0m\u001b[0mbufs\u001b[0m\u001b[0;34m)\u001b[0m \u001b[0;31m# allow us to pop\u001b[0m\u001b[0;34m\u001b[0m\u001b[0;34m\u001b[0m\u001b[0m",
      "\u001b[1;32m    197\u001b[0m     \u001b[0;32massert\u001b[0m \u001b[0mlen\u001b[0m\u001b[0;34m(\u001b[0m\u001b[0mbufs\u001b[0m\u001b[0;34m)\u001b[0m \u001b[0;34m>=\u001b[0m \u001b[0;36m2\u001b[0m\u001b[0;34m,\u001b[0m \u001b[0;34m\"not enough buffers!\"\u001b[0m\u001b[0;34m\u001b[0m\u001b[0;34m\u001b[0m\u001b[0m",
      "\u001b[0;32m--> 198\u001b[0;31m     \u001b[0mf\u001b[0m\u001b[0;34m,\u001b[0m \u001b[0mbufs\u001b[0m \u001b[0;34m=\u001b[0m \u001b[0mdeserialize_object\u001b[0m\u001b[0;34m(\u001b[0m\u001b[0mbufs\u001b[0m\u001b[0;34m,\u001b[0m \u001b[0mg\u001b[0m\u001b[0;34m)\u001b[0m\u001b[0;34m\u001b[0m\u001b[0;34m\u001b[0m\u001b[0m",
      "\u001b[0m\u001b[1;32m    199\u001b[0m     \u001b[0mpinfo\u001b[0m \u001b[0;34m=\u001b[0m \u001b[0mbuffer_to_bytes_py2\u001b[0m\u001b[0;34m(\u001b[0m\u001b[0mbufs\u001b[0m\u001b[0;34m.\u001b[0m\u001b[0mpop\u001b[0m\u001b[0;34m(\u001b[0m\u001b[0;36m0\u001b[0m\u001b[0;34m)\u001b[0m\u001b[0;34m)\u001b[0m\u001b[0;34m\u001b[0m\u001b[0;34m\u001b[0m\u001b[0m",
      "\u001b[1;32m    200\u001b[0m     \u001b[0minfo\u001b[0m \u001b[0;34m=\u001b[0m \u001b[0mpickle\u001b[0m\u001b[0;34m.\u001b[0m\u001b[0mloads\u001b[0m\u001b[0;34m(\u001b[0m\u001b[0mpinfo\u001b[0m\u001b[0;34m)\u001b[0m\u001b[0;34m\u001b[0m\u001b[0;34m\u001b[0m\u001b[0m",
      "\u001b[0;32m~/covid-19/venv3/lib64/python3.6/site-packages/ipyparallel/serialize/serialize.py\u001b[0m in \u001b[0;36mdeserialize_object\u001b[0;34m(buffers, g)\u001b[0m",
      "\u001b[1;32m    143\u001b[0m     \u001b[0mbufs\u001b[0m \u001b[0;34m=\u001b[0m \u001b[0mlist\u001b[0m\u001b[0;34m(\u001b[0m\u001b[0mbuffers\u001b[0m\u001b[0;34m)\u001b[0m\u001b[0;34m\u001b[0m\u001b[0;34m\u001b[0m\u001b[0m",
      "\u001b[1;32m    144\u001b[0m     \u001b[0mpobj\u001b[0m \u001b[0;34m=\u001b[0m \u001b[0mbuffer_to_bytes_py2\u001b[0m\u001b[0;34m(\u001b[0m\u001b[0mbufs\u001b[0m\u001b[0;34m.\u001b[0m\u001b[0mpop\u001b[0m\u001b[0;34m(\u001b[0m\u001b[0;36m0\u001b[0m\u001b[0;34m)\u001b[0m\u001b[0;34m)\u001b[0m\u001b[0;34m\u001b[0m\u001b[0;34m\u001b[0m\u001b[0m",
      "\u001b[0;32m--> 145\u001b[0;31m     \u001b[0mcanned\u001b[0m \u001b[0;34m=\u001b[0m \u001b[0mpickle\u001b[0m\u001b[0;34m.\u001b[0m\u001b[0mloads\u001b[0m\u001b[0;34m(\u001b[0m\u001b[0mpobj\u001b[0m\u001b[0;34m)\u001b[0m\u001b[0;34m\u001b[0m\u001b[0;34m\u001b[0m\u001b[0m",
      "\u001b[0m\u001b[1;32m    146\u001b[0m     \u001b[0;32mif\u001b[0m \u001b[0mistype\u001b[0m\u001b[0;34m(\u001b[0m\u001b[0mcanned\u001b[0m\u001b[0;34m,\u001b[0m \u001b[0msequence_types\u001b[0m\u001b[0;34m)\u001b[0m \u001b[0;32mand\u001b[0m \u001b[0mlen\u001b[0m\u001b[0;34m(\u001b[0m\u001b[0mcanned\u001b[0m\u001b[0;34m)\u001b[0m \u001b[0;34m<\u001b[0m \u001b[0mMAX_ITEMS\u001b[0m\u001b[0;34m:\u001b[0m\u001b[0;34m\u001b[0m\u001b[0;34m\u001b[0m\u001b[0m",
      "\u001b[1;32m    147\u001b[0m         \u001b[0;32mfor\u001b[0m \u001b[0mc\u001b[0m \u001b[0;32min\u001b[0m \u001b[0mcanned\u001b[0m\u001b[0;34m:\u001b[0m\u001b[0;34m\u001b[0m\u001b[0;34m\u001b[0m\u001b[0m",
      "\u001b[0;31mModuleNotFoundError\u001b[0m: No module named 'epydemic.seir_model'"
     ]
    }
   ],
   "source": [
    "lab.readyFraction()"
   ]
  },
  {
   "cell_type": "code",
   "execution_count": null,
   "metadata": {},
   "outputs": [],
   "source": []
  }
 ],
 "metadata": {
  "kernelspec": {
   "display_name": "Python 3",
   "language": "python",
   "name": "python3"
  },
  "language_info": {
   "codemirror_mode": {
    "name": "ipython",
    "version": 3
   },
   "file_extension": ".py",
   "mimetype": "text/x-python",
   "name": "python",
   "nbconvert_exporter": "python",
   "pygments_lexer": "ipython3",
   "version": "3.6.10"
  }
 },
 "nbformat": 4,
 "nbformat_minor": 4
}
