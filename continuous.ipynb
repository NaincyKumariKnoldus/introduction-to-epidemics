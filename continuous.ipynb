{
 "cells": [
  {
   "cell_type": "markdown",
   "metadata": {},
   "source": [
    "# The simplest model"
   ]
  },
  {
   "cell_type": "markdown",
   "metadata": {},
   "source": [
    "How, then, does a disease become an epidemic? More precisely, what are the characteristics of a disease that control how many people in a population become infected?\n",
    "\n",
    "Clearly this is a complicated question, and a lot of factors will affect the answer. Even very subtle things might be important, and may interact with features of the disease itself: when people meet, for example, do they kiss, or do they shake hands? The former will make it easier to pass a disease that needs close physical contact in order to spread, but might make less difference to an airborne disease, a no difference at all to a disease spread by mosquitoes.\n",
    "\n",
    "A scientist's usual approach when faced with a situation like this is try to find a *model* to analyse. By a model we simply mnean a mathematical and/or computational "
   ]
  },
  {
   "cell_type": "code",
   "execution_count": 116,
   "metadata": {},
   "outputs": [],
   "source": [
    "import numpy\n",
    "import operator\n",
    "\n",
    "import matplotlib\n",
    "%matplotlib inline\n",
    "%config InlineBackend.figure_format = 'svg'\n",
    "import matplotlib.pyplot as plt\n",
    "import seaborn\n",
    "\n",
    "from ipywidgets import interact, fixed\n",
    "import ipywidgets as widgets"
   ]
  },
  {
   "cell_type": "markdown",
   "metadata": {},
   "source": [
    "$$\n",
    "    \\Delta S = -\\beta SI \\qquad \\qquad\n",
    "    \\Delta I = \\beta SI - \\alpha I \\qquad \\qquad\n",
    "    \\Delta R = \\alpha I =\n",
    "$$"
   ]
  },
  {
   "cell_type": "code",
   "execution_count": 117,
   "metadata": {},
   "outputs": [],
   "source": [
    "def make_sir(beta, alpha):\n",
    "    # turn the equations into update functions\n",
    "    def dS(S, I, R):\n",
    "        return -beta * S * I\n",
    "    def dI(S, I, R):\n",
    "        return beta * S * I - alpha * I\n",
    "    def dR(S, I, R):\n",
    "        return alpha * I\n",
    "    \n",
    "    # return the three functions\n",
    "    return (dS, dI, dR)"
   ]
  },
  {
   "cell_type": "code",
   "execution_count": 123,
   "metadata": {},
   "outputs": [],
   "source": [
    "def epidemic_sir(T, N, pInfected, pInfect, pRemove):\n",
    "    # create the equations for these parameters\n",
    "    (dS, dI, dR) = make_sir(pInfect, pRemove)\n",
    "    \n",
    "    # initial conditions\n",
    "    sss = [ N * (1.0 - pInfected) ]   # everyone is initially susceptible...\n",
    "    iss = [ N * pInfected ]           # ...except for this fraction...\n",
    "    rss = [ 0 ]                       # ...and no-one starts off removed\n",
    "\n",
    "    # push the initial conditions through the differential equations\n",
    "    for t in range(1, T):\n",
    "        ds = dS(sss[-1], iss[-1], rss[-1])\n",
    "        di = dI(sss[-1], iss[-1], rss[-1])\n",
    "        dr = dR(sss[-1], iss[-1], rss[-1])\n",
    "        sss.append(sss[-1] + ds)\n",
    "        iss.append(iss[-1] + di)\n",
    "        rss.append(rss[-1] + dr)\n",
    "        \n",
    "    # return the time series\n",
    "    return (list(range(0, T)), sss, iss, rss)"
   ]
  },
  {
   "cell_type": "code",
   "execution_count": 119,
   "metadata": {},
   "outputs": [],
   "source": [
    "N = 1000\n",
    "T = 5000\n",
    "pInfected = 0.01"
   ]
  },
  {
   "cell_type": "code",
   "execution_count": 124,
   "metadata": {},
   "outputs": [
    {
     "data": {
      "application/vnd.jupyter.widget-view+json": {
       "model_id": "5e01bda0a37846d9a3c2f2d694501f20",
       "version_major": 2,
       "version_minor": 0
      },
      "text/plain": [
       "interactive(children=(FloatSlider(value=0.004, continuous_update=False, description='$\\\\beta \\\\times 1000$', m…"
      ]
     },
     "metadata": {},
     "output_type": "display_data"
    }
   ],
   "source": [
    "@interact(pInfected=fixed(pInfected), \\\n",
    "          pInfect=widgets.FloatSlider(min=0.0, max=0.01, step=(0.01 / 20), value=0.004, \\\n",
    "                                      description='$\\\\beta \\\\times 1000$', continuous_update=False, readout_format='.4f'), \\\n",
    "          pRemove=widgets.FloatSlider(min=0.0, max=0.004, step=(0.004 / 20), value=0.001, \\\n",
    "                                      description='$\\\\alpha$', continuous_update=False, readout_format='.4f'))\n",
    "def interact_sir(pInfected, pInfect, pRemove):\n",
    "    # run the epidemic equations\n",
    "    (ts, sss, iss, rss) = epidemic_sir(T, N, pInfected, pInfect / 1000, pRemove)\n",
    "    \n",
    "    # draw the graph\n",
    "    fig = plt.figure(figsize=(8, 6))\n",
    "    plt.plot(ts, sss, 'r-', label='suceptible')\n",
    "    plt.plot(ts, iss, 'g-', label='infected')\n",
    "    plt.title('Progress of epidemic ($\\\\beta = {b}, \\\\alpha = {a}$)'.format(b=pInfect, a=pRemove))\n",
    "    plt.xlabel('$t$')\n",
    "    plt.xlim([0, T])\n",
    "    plt.ylabel('population that is...')\n",
    "    plt.ylim([0, N])\n",
    "    plt.legend(loc='right')\n",
    "    plt.show()"
   ]
  },
  {
   "cell_type": "markdown",
   "metadata": {},
   "source": [
    "\\begin{align}\n",
    "    0 &= \\beta SI - \\alpha I \\\\\n",
    "      &= I(\\beta S - \\alpha)\n",
    "\\end{align}"
   ]
  },
  {
   "cell_type": "markdown",
   "metadata": {},
   "source": [
    "Since $I$ cannot be negative, then either $I = 0$ (there are no infected individuals left in the population) or $\\beta S = \\alpha$ meaning $S = \\frac{\\alpha}{\\beta}$."
   ]
  },
  {
   "cell_type": "code",
   "execution_count": 121,
   "metadata": {},
   "outputs": [],
   "source": [
    "def closestTo(ss, target):\n",
    "    ds = None\n",
    "    sc = None\n",
    "    ic = None\n",
    "    for i in range(len(ss)):\n",
    "        df = abs(ss[i] - target)\n",
    "        if ds is None or df < ds:\n",
    "            ds = df\n",
    "            sc = ss[i]\n",
    "            ic = i\n",
    "    return (ic, sc)"
   ]
  },
  {
   "cell_type": "code",
   "execution_count": 122,
   "metadata": {},
   "outputs": [
    {
     "data": {
      "application/vnd.jupyter.widget-view+json": {
       "model_id": "f4ff00e317d6477384570d86f5647a6b",
       "version_major": 2,
       "version_minor": 0
      },
      "text/plain": [
       "interactive(children=(FloatSlider(value=0.004, continuous_update=False, description='$\\\\beta \\\\times 1000$', m…"
      ]
     },
     "metadata": {},
     "output_type": "display_data"
    }
   ],
   "source": [
    "@interact(pInfected=fixed(0.01), \\\n",
    "          pInfect=widgets.FloatSlider(min=0.0, max=0.01, step=(0.01 / 20), value=0.004, \\\n",
    "                                      description='$\\\\beta \\\\times 1000$', continuous_update=False, readout_format='.4f'), \\\n",
    "          pRemove=widgets.FloatSlider(min=0.0, max=0.004, step=(0.004 / 20), value=0.001, \\\n",
    "                                      description='$\\\\alpha$', continuous_update=False, readout_format='.4f'))\n",
    "def interact_sir(pInfected, pInfect, pRemove):\n",
    "    # run the epidemic equations\n",
    "    (ts, sss, iss, rss) = epidemic_sir(T, N, pInfected, pInfect / 1000, pRemove)\n",
    "    \n",
    "    # compute the critical S\n",
    "    scrit = pRemove / (pInfect / 1000)\n",
    "    (tcrit, _) = closestTo(sss, scrit)\n",
    "\n",
    "    # draw the graph\n",
    "    fig = plt.figure(figsize=(8, 6))\n",
    "    plt.plot(ts, sss, 'r-', label='suceptible')\n",
    "    plt.plot(ts, iss, 'g-', label='infected')\n",
    "    plt.plot([0, T], [scrit, scrit], 'k--')\n",
    "    plt.plot([tcrit, tcrit], [0.0, N], 'k--')    \n",
    "    plt.title('Progress of epidemic ($\\\\beta = {b}, \\\\alpha = {a}$)'.format(b=pInfect, a=pRemove))\n",
    "    plt.xlabel('$t$')\n",
    "    plt.xlim([0, T])\n",
    "    plt.ylabel('population that is...')\n",
    "    plt.ylim([0.0, N])\n",
    "    plt.legend(loc='right')\n",
    "    plt.show()"
   ]
  },
  {
   "cell_type": "code",
   "execution_count": null,
   "metadata": {},
   "outputs": [],
   "source": []
  }
 ],
 "metadata": {
  "kernelspec": {
   "display_name": "Python 3",
   "language": "python",
   "name": "python3"
  },
  "language_info": {
   "codemirror_mode": {
    "name": "ipython",
    "version": 3
   },
   "file_extension": ".py",
   "mimetype": "text/x-python",
   "name": "python",
   "nbconvert_exporter": "python",
   "pygments_lexer": "ipython3",
   "version": "3.6.9"
  }
 },
 "nbformat": 4,
 "nbformat_minor": 4
}
