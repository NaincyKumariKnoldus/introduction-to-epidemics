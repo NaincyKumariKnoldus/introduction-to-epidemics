{
 "cells": [
  {
   "cell_type": "markdown",
   "metadata": {},
   "source": [
    "# Epidemics\n",
    "\n",
    "[Simon Dobson](mailto:simon.dobson@computer./org) <br>\n",
    "School of Computer Science, University of St Andrews, Scotland UK"
   ]
  },
  {
   "cell_type": "code",
   "execution_count": 58,
   "metadata": {},
   "outputs": [],
   "source": [
    "import numpy\n",
    "\n",
    "import matplotlib\n",
    "%matplotlib inline\n",
    "%config InlineBackend.figure_format = 'svg'\n",
    "import matplotlib.pyplot as plt\n",
    "import seaborn\n",
    "\n",
    "from ipywidgets import interact, fixed\n",
    "import ipywidgets as widgets"
   ]
  },
  {
   "cell_type": "markdown",
   "metadata": {},
   "source": [
    "$$\n",
    "    \\frac{dS}{dt} = -\\beta SI \\qquad \\qquad\n",
    "    \\frac{dI}{dt} = \\beta SI - \\alpha I \\qquad \\qquad\n",
    "    \\frac{dR}{dt} = \\alpha I = \\frac{dS}{dt} - \\frac{dI}{dt}\n",
    "$$"
   ]
  },
  {
   "cell_type": "code",
   "execution_count": 2,
   "metadata": {},
   "outputs": [],
   "source": [
    "def make_sir(beta, alpha):\n",
    "    # turn the equations into update functions\n",
    "    def dS(S, I, R):\n",
    "        return S - beta * S * I\n",
    "    def dI(S, I, R):\n",
    "        return I + beta * S * I - alpha * I\n",
    "    def dR(S, I, R):\n",
    "        return R + alpha * I\n",
    "    \n",
    "    # return the three functions\n",
    "    return (dS, dI, dR)"
   ]
  },
  {
   "cell_type": "code",
   "execution_count": 43,
   "metadata": {},
   "outputs": [],
   "source": [
    "def plot_sir(pInfect, pRemove, ts, sss, iss, rss):\n",
    "    fig = plt.figure(figsize=(8, 6))\n",
    "\n",
    "    ts = list(range(0, T))\n",
    "    plt.plot(ts, sss, 'r-', label='suceptible')\n",
    "    plt.plot(ts, iss, 'g-', label='infected')\n",
    "\n",
    "    plt.title('Progress of epidemic ($\\\\beta = {b}, \\\\alpha = {a}$)'.format(b=pInfect, a=pRemove))\n",
    "    plt.xlabel('$t$')\n",
    "    plt.xlim([0, T])\n",
    "    plt.ylabel('fraction of the population that is...')\n",
    "    plt.ylim([0.0, 1.0])\n",
    "    plt.legend(loc='right')\n",
    "\n",
    "    plt.show()"
   ]
  },
  {
   "cell_type": "code",
   "execution_count": 47,
   "metadata": {},
   "outputs": [],
   "source": [
    "def epidemic_sir(T, pInfected, pInfect, pRemove):\n",
    "    # create the equations for these parameters\n",
    "    (dS, dI, dR) = make_sir(pInfect, pRemove)\n",
    "    \n",
    "    # initial conditions\n",
    "    sss = [ 1.0 - pInfected ]   # everyone is tially susceptible...\n",
    "    iss = [ pInfected ]         # ...except for this fraction...\n",
    "    rss = [ 0.0 ]               # ...and no-one starts off removed\n",
    "\n",
    "    # push the initial conditions through the differential equations\n",
    "    for t in range(1, T):\n",
    "        sss.append(dS(sss[-1], iss[-1], rss[-1]))\n",
    "        iss.append(dI(sss[-1], iss[-1], rss[-1]))\n",
    "        rss.append(dR(sss[-1], iss[-1], rss[-1]))\n",
    "    \n",
    "    # return the time series\n",
    "    return (list(range(0, T)), sss, iss, rss)"
   ]
  },
  {
   "cell_type": "code",
   "execution_count": 48,
   "metadata": {},
   "outputs": [],
   "source": [
    "T = 5000\n",
    "pRemove = 0.002"
   ]
  },
  {
   "cell_type": "code",
   "execution_count": 74,
   "metadata": {},
   "outputs": [
    {
     "data": {
      "application/vnd.jupyter.widget-view+json": {
       "model_id": "64e6dcd51b5343d4b8cd0a1d5c94afb7",
       "version_major": 2,
       "version_minor": 0
      },
      "text/plain": [
       "interactive(children=(FloatSlider(value=0.008, continuous_update=False, description='$\\\\beta$', max=0.02, read…"
      ]
     },
     "metadata": {},
     "output_type": "display_data"
    }
   ],
   "source": [
    "@interact(pInfected=fixed(0.01), \\\n",
    "          pInfect=widgets.FloatSlider(min=0.0, max=0.02, step=0.001, value=0.008, \\\n",
    "                                      description='$\\\\beta$', continuous_update=False, readout_format='.3f'), \\\n",
    "          pRemove=widgets.FloatSlider(min=0.0, max=0.02, step=0.001, value=0.002, \\\n",
    "                                      description='$\\\\alpha$', continuous_update=False, readout_format='.3f'))\n",
    "def interact_sir(pInfected, pInfect, pRemove):\n",
    "    (ts, sss, iss, rss) = epidemic_sir(T, pInfected, pInfect, pRemove)\n",
    "    plot_sir(pInfect, pRemove, ts, sss, iss, rss)"
   ]
  },
  {
   "cell_type": "code",
   "execution_count": null,
   "metadata": {},
   "outputs": [],
   "source": []
  }
 ],
 "metadata": {
  "kernelspec": {
   "display_name": "Python 3",
   "language": "python",
   "name": "python3"
  },
  "language_info": {
   "codemirror_mode": {
    "name": "ipython",
    "version": 3
   },
   "file_extension": ".py",
   "mimetype": "text/x-python",
   "name": "python",
   "nbconvert_exporter": "python",
   "pygments_lexer": "ipython3",
   "version": "3.6.9"
  }
 },
 "nbformat": 4,
 "nbformat_minor": 4
}
