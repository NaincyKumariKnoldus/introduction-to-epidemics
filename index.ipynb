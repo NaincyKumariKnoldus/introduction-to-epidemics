{
 "cells": [
  {
   "cell_type": "markdown",
   "metadata": {},
   "source": [
    "# Epidemics: an introduction\n",
    "\n",
    "[Simon Dobson](mailto:simon.dobson@st-andrews.ac.uk)<br>\n",
    "School of Computer Science, University of St Andrews, Scotland  UK\n",
    "\n",
    "<hr>"
   ]
  },
  {
   "cell_type": "markdown",
   "metadata": {},
   "source": [
    "## Contents\n",
    "\n",
    "* The structure of diseases\n",
    "* Models\n",
    "* [The simplest model](continuous.ipynb)\n",
    "* [Connectivity](network.ipynb)\n",
    "* [Bibliography](bibliography.ipynb)\n",
    "\n",
    "* Afterward\n",
    "\n",
    "\n",
    "## About the author\n",
    "\n",
    "<div style=\"overflow: auto; width: 80%; padding-top: 10px;\">\n",
    "    <div style=\"float: left; width: 20%; vertical-align: middle; padding-right: 20px;\">\n",
    "        <img src=\"sd.jpg\" width=\"100px\">\n",
    "    </div>\n",
    "    <div style=\"width: 75%; padding-top: 20px;\">\n",
    "        Simon is a Professor of Computer Science at the University of St Andrews,\n",
    "        Scotland, and a Fellow of the Royal Society of Edinburgh.\n",
    "    </div>\n",
    "</div>"
   ]
  },
  {
   "cell_type": "markdown",
   "metadata": {},
   "source": [
    "<hr>\n",
    "\n",
    "<div style=\"align: center\">\n",
    "<img src=\"https://licensebuttons.net/l/by-nc-sa/4.0/88x31.png\">\n",
    "\n",
    "This work is licensed under a\n",
    "<a rel=\"license\" href=\"http://creativecommons.org/licenses/by-nc-sa/4.0/\">Creative Commons Attribution-NonCommercial-ShareAlike 4.0 International License</a>.    \n",
    "</div>\n",
    "\n",
    "[![Binder](https://mybinder.org/badge_logo.svg)](https://mybinder.org/v2/gh/simoninireland/introduction-to-epidemics/master)"
   ]
  }
 ],
 "metadata": {
  "kernelspec": {
   "display_name": "Python 3",
   "language": "python",
   "name": "python3"
  },
  "language_info": {
   "codemirror_mode": {
    "name": "ipython",
    "version": 3
   },
   "file_extension": ".py",
   "mimetype": "text/x-python",
   "name": "python",
   "nbconvert_exporter": "python",
   "pygments_lexer": "ipython3",
   "version": "3.8.2"
  }
 },
 "nbformat": 4,
 "nbformat_minor": 4
}
